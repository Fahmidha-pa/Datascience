{
 "cells": [
  {
   "cell_type": "code",
   "execution_count": 1,
   "id": "c3887f99",
   "metadata": {},
   "outputs": [
    {
     "name": "stdout",
     "output_type": "stream",
     "text": [
      "Select the operations\n",
      "1.Addition\n",
      "2.Substaction\n",
      "3.Multiplication\n",
      "4.Division\n",
      "Enter the first number:6\n",
      "Enter the second number:0\n",
      "Enter the choice:4\n",
      "Cannot divisible by zero\n"
     ]
    }
   ],
   "source": [
    "print(\"Select the operations\")\n",
    "print(\"1.Addition\")\n",
    "print(\"2.Substaction\")\n",
    "print(\"3.Multiplication\")\n",
    "print(\"4.Division\")\n",
    "\n",
    "num1=float(input(\"Enter the first number:\"))\n",
    "num2=float(input(\"Enter the second number:\"))\n",
    "choice=int(input(\"Enter the choice:\"))\n",
    "if(choice==1):\n",
    "          print(\"Addition:%.2f\"%(num1+num2))\n",
    "elif(choice==2):\n",
    "         print(\"Substraction:%.2f\"%(num1-num2))\n",
    "elif(choice==3):\n",
    "         print(\"Multiplication:%.2f\"%(num1*num2))\n",
    "elif(choice==4):\n",
    "    if(num2!=0):\n",
    "         print(\"Division:%.2f\"%(num1/num2))\n",
    "    else:\n",
    "         print(\"Cannot divisible by zero\")\n",
    "else:\n",
    "    print(\"Invalid option.......\")\n"
   ]
  },
  {
   "cell_type": "code",
   "execution_count": null,
   "id": "ea66a255",
   "metadata": {},
   "outputs": [],
   "source": []
  },
  {
   "cell_type": "code",
   "execution_count": null,
   "id": "40b7fc27",
   "metadata": {},
   "outputs": [],
   "source": []
  }
 ],
 "metadata": {
  "kernelspec": {
   "display_name": "Python 3 (ipykernel)",
   "language": "python",
   "name": "python3"
  },
  "language_info": {
   "codemirror_mode": {
    "name": "ipython",
    "version": 3
   },
   "file_extension": ".py",
   "mimetype": "text/x-python",
   "name": "python",
   "nbconvert_exporter": "python",
   "pygments_lexer": "ipython3",
   "version": "3.10.12"
  }
 },
 "nbformat": 4,
 "nbformat_minor": 5
}
