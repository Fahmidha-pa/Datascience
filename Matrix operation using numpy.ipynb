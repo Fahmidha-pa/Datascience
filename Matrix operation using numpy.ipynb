{
 "cells": [
  {
   "cell_type": "code",
   "execution_count": 1,
   "id": "73b1fe5d",
   "metadata": {},
   "outputs": [
    {
     "name": "stdout",
     "output_type": "stream",
     "text": [
      "Addition:\n",
      "[[ 6  8]\n",
      " [10 12]]\n",
      "Subtraction:\n",
      "[[-4 -4]\n",
      " [-4 -4]]\n",
      "Element-wise multiplication:\n",
      "[[ 5 12]\n",
      " [21 32]]\n",
      "Matrix multiplication\n",
      "[[19 22]\n",
      " [43 50]]\n",
      "\n",
      " Transpose\n",
      "[[1 3]\n",
      " [2 4]]\n",
      "[[5 7]\n",
      " [6 8]]\n"
     ]
    }
   ],
   "source": [
    "import numpy as np\n",
    "#create matrices\n",
    "A = np.array([[1,2],[3,4]])\n",
    "B = np.array([[5,6],[7,8]])\n",
    "\n",
    "#Addition\n",
    "C = A+B\n",
    "\n",
    "#subtraction\n",
    "D = A-B\n",
    "\n",
    "#Multipication ((elementwise)\n",
    "E = A*B\n",
    "\n",
    "#matrix multiplication\n",
    "F = np.dot(A, B) #or A @ B\n",
    "\n",
    "#transpose\n",
    "A_transpose=A.T\n",
    "B_transpose=B.T\n",
    "\n",
    "\n",
    "\n",
    "print(\"Addition:\")\n",
    "print(C)\n",
    "\n",
    "print(\"Subtraction:\")\n",
    "print(D)\n",
    "\n",
    "print(\"Element-wise multiplication:\")\n",
    "print(E)\n",
    "\n",
    "print(\"Matrix multiplication\")\n",
    "print(F)\n",
    "\n",
    "print(\"\\n Transpose\")\n",
    "print(A_transpose)\n",
    "print(B_transpose)\n"
   ]
  },
  {
   "cell_type": "code",
   "execution_count": null,
   "id": "b624f5c6",
   "metadata": {},
   "outputs": [],
   "source": []
  },
  {
   "cell_type": "code",
   "execution_count": null,
   "id": "aba7c8a7",
   "metadata": {},
   "outputs": [],
   "source": []
  },
  {
   "cell_type": "code",
   "execution_count": null,
   "id": "f422e33c",
   "metadata": {},
   "outputs": [],
   "source": []
  }
 ],
 "metadata": {
  "kernelspec": {
   "display_name": "Python 3 (ipykernel)",
   "language": "python",
   "name": "python3"
  },
  "language_info": {
   "codemirror_mode": {
    "name": "ipython",
    "version": 3
   },
   "file_extension": ".py",
   "mimetype": "text/x-python",
   "name": "python",
   "nbconvert_exporter": "python",
   "pygments_lexer": "ipython3",
   "version": "3.10.12"
  }
 },
 "nbformat": 4,
 "nbformat_minor": 5
}
